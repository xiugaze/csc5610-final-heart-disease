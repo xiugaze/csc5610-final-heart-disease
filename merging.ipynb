{
 "cells": [
  {
   "cell_type": "code",
   "execution_count": 1,
   "id": "4df4d5f1-bfb2-4ff3-a00a-9c1028f32073",
   "metadata": {},
   "outputs": [],
   "source": [
    "import numpy as np\n",
    "import pandas as pd\n",
    "from matplotlib import pyplot as plt\n",
    "import seaborn as sns"
   ]
  },
  {
   "cell_type": "code",
   "execution_count": 2,
   "id": "9147f8ce-bf7f-4b90-bcd9-17362e1e8560",
   "metadata": {},
   "outputs": [],
   "source": [
    "hd_20 = pd.read_csv(\"./data/Heart_Disease_Dataset/2020/heart_2020_cleaned.csv\")\n",
    "hd_22= pd.read_csv(\"./data/Heart_Disease_Dataset/2022/heart_2022_no_nans.csv\")\n",
    "hdp = pd.read_csv(\"./data/Heart_Disease_Prediction/Heart_Disease_Prediction.csv\")"
   ]
  },
  {
   "cell_type": "code",
   "execution_count": 3,
   "id": "4f76b946-6f19-4216-bbed-f3b13c1aa93c",
   "metadata": {},
   "outputs": [],
   "source": [
    "hd_20[\"HeartDisease\"] = hd_20[\"HeartDisease\"] == \"Yes\"\n",
    "hd_20[\"Smoking\"] = hd_20[\"Smoking\"] == \"Yes\"\n",
    "hd_20[\"AlcoholDrinking\"] = hd_20[\"AlcoholDrinking\"] == \"Yes\"\n",
    "hd_20[\"Stroke\"] = hd_20[\"Stroke\"] == \"Yes\"\n",
    "hd_20[\"DiffWalking\"] = hd_20[\"DiffWalking\"] == \"Yes\"\n",
    "hd_20[\"Sex\"] = hd_20[\"Sex\"].astype(\"category\")\n",
    "hd_20[\"AgeCategory\"] = hd_20[\"AgeCategory\"].astype(\"category\")\n",
    "hd_20[\"Diabetic\"] = hd_20[\"Diabetic\"].astype(\"category\")\n",
    "hd_20[\"PhysicalActivity\"] = hd_20[\"PhysicalActivity\"] == \"Yes\"\n",
    "hd_20[\"GenHealth\"] = hd_20[\"GenHealth\"].map({\n",
    "    \"Excellent\": 5,\n",
    "    \"Very good\": 4,\n",
    "    \"Good\": 3,\n",
    "    \"Fair\": 2,\n",
    "    \"Poor\": 1,\n",
    "})\n",
    "\n",
    "hd_20[\"Asthma\"] = hd_20[\"Asthma\"] == \"Yes\"\n",
    "hd_20[\"KidneyDisease\"] = hd_20[\"KidneyDisease\"] == \"Yes\"\n",
    "hd_20[\"SkinCancer\"] = hd_20[\"SkinCancer\"] == \"Yes\""
   ]
  },
  {
   "cell_type": "code",
   "execution_count": 4,
   "id": "0abf43ad-63e7-4c73-b103-c5264bb4795e",
   "metadata": {},
   "outputs": [
    {
     "data": {
      "text/plain": [
       "['Yes', 'No', 'No, borderline diabetes', 'Yes (during pregnancy)']\n",
       "Categories (4, object): ['No', 'No, borderline diabetes', 'Yes', 'Yes (during pregnancy)']"
      ]
     },
     "execution_count": 4,
     "metadata": {},
     "output_type": "execute_result"
    }
   ],
   "source": [
    "hd_20[\"Diabetic\"].unique()"
   ]
  },
  {
   "cell_type": "code",
   "execution_count": 5,
   "id": "242f423e-bb3c-4a71-bc08-c1d8b0587389",
   "metadata": {},
   "outputs": [
    {
     "name": "stdout",
     "output_type": "stream",
     "text": [
      "<class 'pandas.core.frame.DataFrame'>\n",
      "RangeIndex: 319795 entries, 0 to 319794\n",
      "Data columns (total 18 columns):\n",
      " #   Column            Non-Null Count   Dtype   \n",
      "---  ------            --------------   -----   \n",
      " 0   HeartDisease      319795 non-null  bool    \n",
      " 1   BMI               319795 non-null  float64 \n",
      " 2   Smoking           319795 non-null  bool    \n",
      " 3   AlcoholDrinking   319795 non-null  bool    \n",
      " 4   Stroke            319795 non-null  bool    \n",
      " 5   PhysicalHealth    319795 non-null  float64 \n",
      " 6   MentalHealth      319795 non-null  float64 \n",
      " 7   DiffWalking       319795 non-null  bool    \n",
      " 8   Sex               319795 non-null  category\n",
      " 9   AgeCategory       319795 non-null  category\n",
      " 10  Race              319795 non-null  object  \n",
      " 11  Diabetic          319795 non-null  category\n",
      " 12  PhysicalActivity  319795 non-null  bool    \n",
      " 13  GenHealth         319795 non-null  int64   \n",
      " 14  SleepTime         319795 non-null  float64 \n",
      " 15  Asthma            319795 non-null  bool    \n",
      " 16  KidneyDisease     319795 non-null  bool    \n",
      " 17  SkinCancer        319795 non-null  bool    \n",
      "dtypes: bool(9), category(3), float64(4), int64(1), object(1)\n",
      "memory usage: 18.3+ MB\n"
     ]
    }
   ],
   "source": [
    "hd_20.info()"
   ]
  },
  {
   "cell_type": "code",
   "execution_count": 6,
   "id": "40c15c46-f73c-410c-89a4-fa510fa6d2e7",
   "metadata": {},
   "outputs": [
    {
     "data": {
      "text/plain": [
       "array(['Very good', 'Fair', 'Good', 'Excellent', 'Poor'], dtype=object)"
      ]
     },
     "execution_count": 6,
     "metadata": {},
     "output_type": "execute_result"
    }
   ],
   "source": [
    "hd_22[\"GeneralHealth\"].unique()"
   ]
  },
  {
   "cell_type": "code",
   "execution_count": 7,
   "id": "36e033f3-92f9-4ba8-b68e-aab22ffdf082",
   "metadata": {},
   "outputs": [
    {
     "name": "stdout",
     "output_type": "stream",
     "text": [
      "<class 'pandas.core.frame.DataFrame'>\n",
      "RangeIndex: 246022 entries, 0 to 246021\n",
      "Data columns (total 40 columns):\n",
      " #   Column                     Non-Null Count   Dtype  \n",
      "---  ------                     --------------   -----  \n",
      " 0   State                      246022 non-null  object \n",
      " 1   Sex                        246022 non-null  object \n",
      " 2   GeneralHealth              246022 non-null  object \n",
      " 3   PhysicalHealthDays         246022 non-null  float64\n",
      " 4   MentalHealthDays           246022 non-null  float64\n",
      " 5   LastCheckupTime            246022 non-null  object \n",
      " 6   PhysicalActivities         246022 non-null  object \n",
      " 7   SleepHours                 246022 non-null  float64\n",
      " 8   RemovedTeeth               246022 non-null  object \n",
      " 9   HadHeartAttack             246022 non-null  object \n",
      " 10  HadAngina                  246022 non-null  object \n",
      " 11  HadStroke                  246022 non-null  object \n",
      " 12  HadAsthma                  246022 non-null  object \n",
      " 13  HadSkinCancer              246022 non-null  object \n",
      " 14  HadCOPD                    246022 non-null  object \n",
      " 15  HadDepressiveDisorder      246022 non-null  object \n",
      " 16  HadKidneyDisease           246022 non-null  object \n",
      " 17  HadArthritis               246022 non-null  object \n",
      " 18  HadDiabetes                246022 non-null  object \n",
      " 19  DeafOrHardOfHearing        246022 non-null  object \n",
      " 20  BlindOrVisionDifficulty    246022 non-null  object \n",
      " 21  DifficultyConcentrating    246022 non-null  object \n",
      " 22  DifficultyWalking          246022 non-null  object \n",
      " 23  DifficultyDressingBathing  246022 non-null  object \n",
      " 24  DifficultyErrands          246022 non-null  object \n",
      " 25  SmokerStatus               246022 non-null  object \n",
      " 26  ECigaretteUsage            246022 non-null  object \n",
      " 27  ChestScan                  246022 non-null  object \n",
      " 28  RaceEthnicityCategory      246022 non-null  object \n",
      " 29  AgeCategory                246022 non-null  object \n",
      " 30  HeightInMeters             246022 non-null  float64\n",
      " 31  WeightInKilograms          246022 non-null  float64\n",
      " 32  BMI                        246022 non-null  float64\n",
      " 33  AlcoholDrinkers            246022 non-null  object \n",
      " 34  HIVTesting                 246022 non-null  object \n",
      " 35  FluVaxLast12               246022 non-null  object \n",
      " 36  PneumoVaxEver              246022 non-null  object \n",
      " 37  TetanusLast10Tdap          246022 non-null  object \n",
      " 38  HighRiskLastYear           246022 non-null  object \n",
      " 39  CovidPos                   246022 non-null  object \n",
      "dtypes: float64(6), object(34)\n",
      "memory usage: 75.1+ MB\n"
     ]
    }
   ],
   "source": [
    "hd_22.info()"
   ]
  },
  {
   "cell_type": "code",
   "execution_count": null,
   "id": "3986153c-59aa-47dd-a455-40ed06468ba1",
   "metadata": {},
   "outputs": [],
   "source": []
  },
  {
   "cell_type": "code",
   "execution_count": 8,
   "id": "1d9a10ca-93ac-48e3-b41c-e87bc83faf75",
   "metadata": {},
   "outputs": [],
   "source": [
    "common = [\"Sex\", \"GeneralHealth\", \"PhysicalHealthDays\",\n",
    "          \"MentalHealthDays\", \"HadStroke\", \"HadAsthma\",\n",
    "          \"HadKidneyDisease\", \"HadSkinCancer\", \"DifficultyWalking\", \n",
    "          \"AgeCategory\", \"BMI\", \"SmokerStatus\", \"AlcoholDrinkers\", \"RaceEthnicityCategory\",\n",
    "          \"HadDiabetes\", \"PhysicalActivities\", \"SleepHours\"]\n",
    "hd_22_common = hd_22[common]"
   ]
  },
  {
   "cell_type": "code",
   "execution_count": 9,
   "id": "f81588be-623b-4853-8999-d7dd68cda9c5",
   "metadata": {},
   "outputs": [
    {
     "name": "stdout",
     "output_type": "stream",
     "text": [
      "<class 'pandas.core.frame.DataFrame'>\n",
      "RangeIndex: 246022 entries, 0 to 246021\n",
      "Data columns (total 17 columns):\n",
      " #   Column                 Non-Null Count   Dtype  \n",
      "---  ------                 --------------   -----  \n",
      " 0   Sex                    246022 non-null  object \n",
      " 1   GeneralHealth          246022 non-null  object \n",
      " 2   PhysicalHealthDays     246022 non-null  float64\n",
      " 3   MentalHealthDays       246022 non-null  float64\n",
      " 4   HadStroke              246022 non-null  object \n",
      " 5   HadAsthma              246022 non-null  object \n",
      " 6   HadKidneyDisease       246022 non-null  object \n",
      " 7   HadSkinCancer          246022 non-null  object \n",
      " 8   DifficultyWalking      246022 non-null  object \n",
      " 9   AgeCategory            246022 non-null  object \n",
      " 10  BMI                    246022 non-null  float64\n",
      " 11  SmokerStatus           246022 non-null  object \n",
      " 12  AlcoholDrinkers        246022 non-null  object \n",
      " 13  RaceEthnicityCategory  246022 non-null  object \n",
      " 14  HadDiabetes            246022 non-null  object \n",
      " 15  PhysicalActivities     246022 non-null  object \n",
      " 16  SleepHours             246022 non-null  float64\n",
      "dtypes: float64(4), object(13)\n",
      "memory usage: 31.9+ MB\n"
     ]
    }
   ],
   "source": [
    "hd_22_common.info()"
   ]
  },
  {
   "cell_type": "code",
   "execution_count": 10,
   "id": "5fb3bf88-8080-485e-9b30-f558a7b7be51",
   "metadata": {},
   "outputs": [],
   "source": [
    "angina = (hd_22[\"HadAngina\"] == \"Yes\")"
   ]
  },
  {
   "cell_type": "code",
   "execution_count": 11,
   "id": "c24374e3-dd8d-4665-af09-5e2eae3c6c47",
   "metadata": {},
   "outputs": [],
   "source": [
    "heartattack = (hd_22[\"HadHeartAttack\"] == \"Yes\")"
   ]
  },
  {
   "cell_type": "code",
   "execution_count": 12,
   "id": "a29dee63-259d-4f2b-8da0-0bd5645b2119",
   "metadata": {},
   "outputs": [
    {
     "name": "stderr",
     "output_type": "stream",
     "text": [
      "/tmp/nix-shell.SPAOcp/ipykernel_53771/3742600932.py:1: SettingWithCopyWarning: \n",
      "A value is trying to be set on a copy of a slice from a DataFrame.\n",
      "Try using .loc[row_indexer,col_indexer] = value instead\n",
      "\n",
      "See the caveats in the documentation: https://pandas.pydata.org/pandas-docs/stable/user_guide/indexing.html#returning-a-view-versus-a-copy\n",
      "  hd_22_common[\"HeartDisease\"] = angina | heartattack\n"
     ]
    }
   ],
   "source": [
    "hd_22_common[\"HeartDisease\"] = angina | heartattack"
   ]
  },
  {
   "cell_type": "code",
   "execution_count": 13,
   "id": "00b1b0ab-37f6-4dfd-b6da-5af683e73675",
   "metadata": {},
   "outputs": [
    {
     "data": {
      "text/html": [
       "<div>\n",
       "<style scoped>\n",
       "    .dataframe tbody tr th:only-of-type {\n",
       "        vertical-align: middle;\n",
       "    }\n",
       "\n",
       "    .dataframe tbody tr th {\n",
       "        vertical-align: top;\n",
       "    }\n",
       "\n",
       "    .dataframe thead th {\n",
       "        text-align: right;\n",
       "    }\n",
       "</style>\n",
       "<table border=\"1\" class=\"dataframe\">\n",
       "  <thead>\n",
       "    <tr style=\"text-align: right;\">\n",
       "      <th></th>\n",
       "      <th>Sex</th>\n",
       "      <th>GeneralHealth</th>\n",
       "      <th>PhysicalHealthDays</th>\n",
       "      <th>MentalHealthDays</th>\n",
       "      <th>HadStroke</th>\n",
       "      <th>HadAsthma</th>\n",
       "      <th>HadKidneyDisease</th>\n",
       "      <th>HadSkinCancer</th>\n",
       "      <th>DifficultyWalking</th>\n",
       "      <th>AgeCategory</th>\n",
       "      <th>BMI</th>\n",
       "      <th>SmokerStatus</th>\n",
       "      <th>AlcoholDrinkers</th>\n",
       "      <th>RaceEthnicityCategory</th>\n",
       "      <th>HadDiabetes</th>\n",
       "      <th>PhysicalActivities</th>\n",
       "      <th>SleepHours</th>\n",
       "      <th>HeartDisease</th>\n",
       "    </tr>\n",
       "  </thead>\n",
       "  <tbody>\n",
       "    <tr>\n",
       "      <th>0</th>\n",
       "      <td>Female</td>\n",
       "      <td>Very good</td>\n",
       "      <td>4.0</td>\n",
       "      <td>0.0</td>\n",
       "      <td>No</td>\n",
       "      <td>No</td>\n",
       "      <td>No</td>\n",
       "      <td>No</td>\n",
       "      <td>No</td>\n",
       "      <td>Age 65 to 69</td>\n",
       "      <td>27.99</td>\n",
       "      <td>Former smoker</td>\n",
       "      <td>No</td>\n",
       "      <td>White only, Non-Hispanic</td>\n",
       "      <td>No</td>\n",
       "      <td>Yes</td>\n",
       "      <td>9.0</td>\n",
       "      <td>False</td>\n",
       "    </tr>\n",
       "    <tr>\n",
       "      <th>1</th>\n",
       "      <td>Male</td>\n",
       "      <td>Very good</td>\n",
       "      <td>0.0</td>\n",
       "      <td>0.0</td>\n",
       "      <td>No</td>\n",
       "      <td>No</td>\n",
       "      <td>No</td>\n",
       "      <td>No</td>\n",
       "      <td>No</td>\n",
       "      <td>Age 70 to 74</td>\n",
       "      <td>30.13</td>\n",
       "      <td>Former smoker</td>\n",
       "      <td>No</td>\n",
       "      <td>White only, Non-Hispanic</td>\n",
       "      <td>Yes</td>\n",
       "      <td>Yes</td>\n",
       "      <td>6.0</td>\n",
       "      <td>False</td>\n",
       "    </tr>\n",
       "    <tr>\n",
       "      <th>2</th>\n",
       "      <td>Male</td>\n",
       "      <td>Very good</td>\n",
       "      <td>0.0</td>\n",
       "      <td>0.0</td>\n",
       "      <td>No</td>\n",
       "      <td>No</td>\n",
       "      <td>No</td>\n",
       "      <td>No</td>\n",
       "      <td>Yes</td>\n",
       "      <td>Age 75 to 79</td>\n",
       "      <td>31.66</td>\n",
       "      <td>Former smoker</td>\n",
       "      <td>Yes</td>\n",
       "      <td>White only, Non-Hispanic</td>\n",
       "      <td>No</td>\n",
       "      <td>No</td>\n",
       "      <td>8.0</td>\n",
       "      <td>False</td>\n",
       "    </tr>\n",
       "    <tr>\n",
       "      <th>3</th>\n",
       "      <td>Female</td>\n",
       "      <td>Fair</td>\n",
       "      <td>5.0</td>\n",
       "      <td>0.0</td>\n",
       "      <td>No</td>\n",
       "      <td>No</td>\n",
       "      <td>No</td>\n",
       "      <td>Yes</td>\n",
       "      <td>Yes</td>\n",
       "      <td>Age 80 or older</td>\n",
       "      <td>31.32</td>\n",
       "      <td>Never smoked</td>\n",
       "      <td>No</td>\n",
       "      <td>White only, Non-Hispanic</td>\n",
       "      <td>No</td>\n",
       "      <td>Yes</td>\n",
       "      <td>9.0</td>\n",
       "      <td>False</td>\n",
       "    </tr>\n",
       "    <tr>\n",
       "      <th>4</th>\n",
       "      <td>Female</td>\n",
       "      <td>Good</td>\n",
       "      <td>3.0</td>\n",
       "      <td>15.0</td>\n",
       "      <td>No</td>\n",
       "      <td>No</td>\n",
       "      <td>No</td>\n",
       "      <td>No</td>\n",
       "      <td>No</td>\n",
       "      <td>Age 80 or older</td>\n",
       "      <td>33.07</td>\n",
       "      <td>Never smoked</td>\n",
       "      <td>No</td>\n",
       "      <td>White only, Non-Hispanic</td>\n",
       "      <td>No</td>\n",
       "      <td>Yes</td>\n",
       "      <td>5.0</td>\n",
       "      <td>False</td>\n",
       "    </tr>\n",
       "    <tr>\n",
       "      <th>...</th>\n",
       "      <td>...</td>\n",
       "      <td>...</td>\n",
       "      <td>...</td>\n",
       "      <td>...</td>\n",
       "      <td>...</td>\n",
       "      <td>...</td>\n",
       "      <td>...</td>\n",
       "      <td>...</td>\n",
       "      <td>...</td>\n",
       "      <td>...</td>\n",
       "      <td>...</td>\n",
       "      <td>...</td>\n",
       "      <td>...</td>\n",
       "      <td>...</td>\n",
       "      <td>...</td>\n",
       "      <td>...</td>\n",
       "      <td>...</td>\n",
       "      <td>...</td>\n",
       "    </tr>\n",
       "    <tr>\n",
       "      <th>246017</th>\n",
       "      <td>Male</td>\n",
       "      <td>Very good</td>\n",
       "      <td>0.0</td>\n",
       "      <td>0.0</td>\n",
       "      <td>No</td>\n",
       "      <td>No</td>\n",
       "      <td>No</td>\n",
       "      <td>No</td>\n",
       "      <td>No</td>\n",
       "      <td>Age 60 to 64</td>\n",
       "      <td>32.28</td>\n",
       "      <td>Never smoked</td>\n",
       "      <td>Yes</td>\n",
       "      <td>White only, Non-Hispanic</td>\n",
       "      <td>No</td>\n",
       "      <td>Yes</td>\n",
       "      <td>6.0</td>\n",
       "      <td>False</td>\n",
       "    </tr>\n",
       "    <tr>\n",
       "      <th>246018</th>\n",
       "      <td>Female</td>\n",
       "      <td>Fair</td>\n",
       "      <td>0.0</td>\n",
       "      <td>7.0</td>\n",
       "      <td>No</td>\n",
       "      <td>No</td>\n",
       "      <td>No</td>\n",
       "      <td>No</td>\n",
       "      <td>No</td>\n",
       "      <td>Age 25 to 29</td>\n",
       "      <td>24.34</td>\n",
       "      <td>Never smoked</td>\n",
       "      <td>No</td>\n",
       "      <td>Black only, Non-Hispanic</td>\n",
       "      <td>No</td>\n",
       "      <td>Yes</td>\n",
       "      <td>7.0</td>\n",
       "      <td>False</td>\n",
       "    </tr>\n",
       "    <tr>\n",
       "      <th>246019</th>\n",
       "      <td>Male</td>\n",
       "      <td>Good</td>\n",
       "      <td>0.0</td>\n",
       "      <td>15.0</td>\n",
       "      <td>Yes</td>\n",
       "      <td>No</td>\n",
       "      <td>No</td>\n",
       "      <td>No</td>\n",
       "      <td>No</td>\n",
       "      <td>Age 65 to 69</td>\n",
       "      <td>29.86</td>\n",
       "      <td>Never smoked</td>\n",
       "      <td>Yes</td>\n",
       "      <td>Multiracial, Non-Hispanic</td>\n",
       "      <td>Yes</td>\n",
       "      <td>Yes</td>\n",
       "      <td>7.0</td>\n",
       "      <td>False</td>\n",
       "    </tr>\n",
       "    <tr>\n",
       "      <th>246020</th>\n",
       "      <td>Female</td>\n",
       "      <td>Excellent</td>\n",
       "      <td>2.0</td>\n",
       "      <td>2.0</td>\n",
       "      <td>No</td>\n",
       "      <td>No</td>\n",
       "      <td>No</td>\n",
       "      <td>No</td>\n",
       "      <td>No</td>\n",
       "      <td>Age 50 to 54</td>\n",
       "      <td>28.66</td>\n",
       "      <td>Never smoked</td>\n",
       "      <td>No</td>\n",
       "      <td>Black only, Non-Hispanic</td>\n",
       "      <td>No</td>\n",
       "      <td>Yes</td>\n",
       "      <td>7.0</td>\n",
       "      <td>False</td>\n",
       "    </tr>\n",
       "    <tr>\n",
       "      <th>246021</th>\n",
       "      <td>Male</td>\n",
       "      <td>Very good</td>\n",
       "      <td>0.0</td>\n",
       "      <td>0.0</td>\n",
       "      <td>No</td>\n",
       "      <td>Yes</td>\n",
       "      <td>No</td>\n",
       "      <td>No</td>\n",
       "      <td>No</td>\n",
       "      <td>Age 70 to 74</td>\n",
       "      <td>32.55</td>\n",
       "      <td>Never smoked</td>\n",
       "      <td>No</td>\n",
       "      <td>Black only, Non-Hispanic</td>\n",
       "      <td>No</td>\n",
       "      <td>No</td>\n",
       "      <td>5.0</td>\n",
       "      <td>True</td>\n",
       "    </tr>\n",
       "  </tbody>\n",
       "</table>\n",
       "<p>246022 rows × 18 columns</p>\n",
       "</div>"
      ],
      "text/plain": [
       "           Sex GeneralHealth  PhysicalHealthDays  MentalHealthDays HadStroke  \\\n",
       "0       Female     Very good                 4.0               0.0        No   \n",
       "1         Male     Very good                 0.0               0.0        No   \n",
       "2         Male     Very good                 0.0               0.0        No   \n",
       "3       Female          Fair                 5.0               0.0        No   \n",
       "4       Female          Good                 3.0              15.0        No   \n",
       "...        ...           ...                 ...               ...       ...   \n",
       "246017    Male     Very good                 0.0               0.0        No   \n",
       "246018  Female          Fair                 0.0               7.0        No   \n",
       "246019    Male          Good                 0.0              15.0       Yes   \n",
       "246020  Female     Excellent                 2.0               2.0        No   \n",
       "246021    Male     Very good                 0.0               0.0        No   \n",
       "\n",
       "       HadAsthma HadKidneyDisease HadSkinCancer DifficultyWalking  \\\n",
       "0             No               No            No                No   \n",
       "1             No               No            No                No   \n",
       "2             No               No            No               Yes   \n",
       "3             No               No           Yes               Yes   \n",
       "4             No               No            No                No   \n",
       "...          ...              ...           ...               ...   \n",
       "246017        No               No            No                No   \n",
       "246018        No               No            No                No   \n",
       "246019        No               No            No                No   \n",
       "246020        No               No            No                No   \n",
       "246021       Yes               No            No                No   \n",
       "\n",
       "            AgeCategory    BMI   SmokerStatus AlcoholDrinkers  \\\n",
       "0          Age 65 to 69  27.99  Former smoker              No   \n",
       "1          Age 70 to 74  30.13  Former smoker              No   \n",
       "2          Age 75 to 79  31.66  Former smoker             Yes   \n",
       "3       Age 80 or older  31.32   Never smoked              No   \n",
       "4       Age 80 or older  33.07   Never smoked              No   \n",
       "...                 ...    ...            ...             ...   \n",
       "246017     Age 60 to 64  32.28   Never smoked             Yes   \n",
       "246018     Age 25 to 29  24.34   Never smoked              No   \n",
       "246019     Age 65 to 69  29.86   Never smoked             Yes   \n",
       "246020     Age 50 to 54  28.66   Never smoked              No   \n",
       "246021     Age 70 to 74  32.55   Never smoked              No   \n",
       "\n",
       "            RaceEthnicityCategory HadDiabetes PhysicalActivities  SleepHours  \\\n",
       "0        White only, Non-Hispanic          No                Yes         9.0   \n",
       "1        White only, Non-Hispanic         Yes                Yes         6.0   \n",
       "2        White only, Non-Hispanic          No                 No         8.0   \n",
       "3        White only, Non-Hispanic          No                Yes         9.0   \n",
       "4        White only, Non-Hispanic          No                Yes         5.0   \n",
       "...                           ...         ...                ...         ...   \n",
       "246017   White only, Non-Hispanic          No                Yes         6.0   \n",
       "246018   Black only, Non-Hispanic          No                Yes         7.0   \n",
       "246019  Multiracial, Non-Hispanic         Yes                Yes         7.0   \n",
       "246020   Black only, Non-Hispanic          No                Yes         7.0   \n",
       "246021   Black only, Non-Hispanic          No                 No         5.0   \n",
       "\n",
       "        HeartDisease  \n",
       "0              False  \n",
       "1              False  \n",
       "2              False  \n",
       "3              False  \n",
       "4              False  \n",
       "...              ...  \n",
       "246017         False  \n",
       "246018         False  \n",
       "246019         False  \n",
       "246020         False  \n",
       "246021          True  \n",
       "\n",
       "[246022 rows x 18 columns]"
      ]
     },
     "execution_count": 13,
     "metadata": {},
     "output_type": "execute_result"
    }
   ],
   "source": [
    "hd_22_common"
   ]
  },
  {
   "cell_type": "code",
   "execution_count": 14,
   "id": "796ce10b-9978-4cf7-b0b9-a5a849724d24",
   "metadata": {},
   "outputs": [],
   "source": [
    "hd_22 = hd_22_common"
   ]
  },
  {
   "cell_type": "markdown",
   "id": "68166809-ee32-4206-a211-1f8f5fff5d2d",
   "metadata": {},
   "source": [
    "# Typing 2022 Dataset"
   ]
  },
  {
   "cell_type": "code",
   "execution_count": 15,
   "id": "53562dea-e7f5-4a6a-971a-683b70913e38",
   "metadata": {},
   "outputs": [],
   "source": [
    "hd_22[\"GeneralHealth\"] = hd_22[\"GeneralHealth\"].map({\n",
    "    \"Excellent\": 5,\n",
    "    \"Very good\": 4,\n",
    "    \"Good\": 3,\n",
    "    \"Fair\": 2,\n",
    "    \"Poor\": 1,\n",
    "})"
   ]
  },
  {
   "cell_type": "code",
   "execution_count": 16,
   "id": "c7d29280-3df7-4156-8f45-815f2cb1138f",
   "metadata": {},
   "outputs": [],
   "source": [
    "hd_22[\"HadAsthma\"] = hd_22[\"HadAsthma\"] == \"Yes\""
   ]
  },
  {
   "cell_type": "code",
   "execution_count": 17,
   "id": "7e7cec72-4223-4994-8fc4-b8ae72e55e90",
   "metadata": {},
   "outputs": [],
   "source": [
    "hd_22[\"Sex\"] = hd_22[\"Sex\"].astype(\"category\")"
   ]
  },
  {
   "cell_type": "code",
   "execution_count": 18,
   "id": "142a2393-b6b7-423e-9473-d6306a4dfdb6",
   "metadata": {},
   "outputs": [],
   "source": [
    "hd_22[\"HadStroke\"] = hd_22[\"HadStroke\"] == \"Yes\""
   ]
  },
  {
   "cell_type": "code",
   "execution_count": 19,
   "id": "04a85b55-eb4b-4076-ac7f-ddae2ab8b065",
   "metadata": {},
   "outputs": [],
   "source": [
    "hd_22[\"HadKidneyDisease\"] = hd_22[\"HadKidneyDisease\"] == \"Yes\""
   ]
  },
  {
   "cell_type": "code",
   "execution_count": 20,
   "id": "1d084282-6421-408e-a819-7641111cf55e",
   "metadata": {},
   "outputs": [],
   "source": [
    "hd_22[\"HadSkinCancer\"] = hd_22[\"HadSkinCancer\"] == \"Yes\""
   ]
  },
  {
   "cell_type": "code",
   "execution_count": 21,
   "id": "609632d8-40a9-40a0-8aad-959288fc8a3e",
   "metadata": {},
   "outputs": [],
   "source": [
    "hd_22[\"DifficultyWalking\"] = hd_22[\"DifficultyWalking\"] == \"Yes\""
   ]
  },
  {
   "cell_type": "code",
   "execution_count": 22,
   "id": "b2a0921b-bd1c-4f59-a95b-67f5bbee0720",
   "metadata": {},
   "outputs": [],
   "source": [
    "hd_22[\"SmokerStatus\"] = hd_22[\"SmokerStatus\"].str.contains(\"Current\")"
   ]
  },
  {
   "cell_type": "code",
   "execution_count": 23,
   "id": "d734d6b5-54e4-45a6-bef8-53553171e266",
   "metadata": {},
   "outputs": [],
   "source": [
    "hd_22[\"AlcoholDrinkers\"] = hd_22[\"AlcoholDrinkers\"] == \"Yes\""
   ]
  },
  {
   "cell_type": "code",
   "execution_count": 24,
   "id": "495ee9e2-9b79-49b7-b9ee-1f6085fb42da",
   "metadata": {},
   "outputs": [
    {
     "data": {
      "text/plain": [
       "array(['White only, Non-Hispanic', 'Black only, Non-Hispanic',\n",
       "       'Other race only, Non-Hispanic', 'Multiracial, Non-Hispanic',\n",
       "       'Hispanic'], dtype=object)"
      ]
     },
     "execution_count": 24,
     "metadata": {},
     "output_type": "execute_result"
    }
   ],
   "source": [
    "hd_22[\"RaceEthnicityCategory\"].unique()"
   ]
  },
  {
   "cell_type": "code",
   "execution_count": 25,
   "id": "37539fc7-57ac-46a2-9946-4abd693865a2",
   "metadata": {},
   "outputs": [
    {
     "data": {
      "text/plain": [
       "array(['No', 'Yes', 'Yes, but only during pregnancy (female)',\n",
       "       'No, pre-diabetes or borderline diabetes'], dtype=object)"
      ]
     },
     "execution_count": 25,
     "metadata": {},
     "output_type": "execute_result"
    }
   ],
   "source": [
    "hd_22[\"HadDiabetes\"].unique()"
   ]
  },
  {
   "cell_type": "code",
   "execution_count": 26,
   "id": "bd41860c-264a-4c80-9911-faf6143895cd",
   "metadata": {},
   "outputs": [],
   "source": [
    "hd_22[\"HadDiabetes\"] = hd_22[\"HadDiabetes\"].map({\n",
    "    \"Yes\": \"Yes\", \n",
    "    \"No\": \"No\",\n",
    "    \"No, pre-diabetes or borderline diabetes\": \"No, borderline diabetes\", \n",
    "    \"Yes, but only during pregnancy (female)\": \"Yes (during pregnancy)\"}).astype(\"category\")"
   ]
  },
  {
   "cell_type": "code",
   "execution_count": 27,
   "id": "408edbb6-f1d4-4ebb-885c-c9b537bb1919",
   "metadata": {},
   "outputs": [],
   "source": [
    "hd_22[\"PhysicalActivities\"] = hd_22[\"PhysicalActivities\"] == \"Yes\""
   ]
  },
  {
   "cell_type": "code",
   "execution_count": 28,
   "id": "eed46eca-f3ad-4202-955f-68577309a383",
   "metadata": {},
   "outputs": [
    {
     "name": "stdout",
     "output_type": "stream",
     "text": [
      "<class 'pandas.core.frame.DataFrame'>\n",
      "RangeIndex: 246022 entries, 0 to 246021\n",
      "Data columns (total 18 columns):\n",
      " #   Column                 Non-Null Count   Dtype   \n",
      "---  ------                 --------------   -----   \n",
      " 0   Sex                    246022 non-null  category\n",
      " 1   GeneralHealth          246022 non-null  int64   \n",
      " 2   PhysicalHealthDays     246022 non-null  float64 \n",
      " 3   MentalHealthDays       246022 non-null  float64 \n",
      " 4   HadStroke              246022 non-null  bool    \n",
      " 5   HadAsthma              246022 non-null  bool    \n",
      " 6   HadKidneyDisease       246022 non-null  bool    \n",
      " 7   HadSkinCancer          246022 non-null  bool    \n",
      " 8   DifficultyWalking      246022 non-null  bool    \n",
      " 9   AgeCategory            246022 non-null  object  \n",
      " 10  BMI                    246022 non-null  float64 \n",
      " 11  SmokerStatus           246022 non-null  bool    \n",
      " 12  AlcoholDrinkers        246022 non-null  bool    \n",
      " 13  RaceEthnicityCategory  246022 non-null  object  \n",
      " 14  HadDiabetes            246022 non-null  category\n",
      " 15  PhysicalActivities     246022 non-null  bool    \n",
      " 16  SleepHours             246022 non-null  float64 \n",
      " 17  HeartDisease           246022 non-null  bool    \n",
      "dtypes: bool(9), category(2), float64(4), int64(1), object(2)\n",
      "memory usage: 15.7+ MB\n"
     ]
    }
   ],
   "source": [
    "hd_22.info()"
   ]
  },
  {
   "cell_type": "code",
   "execution_count": 29,
   "id": "a75fd871-5a93-4917-b4ec-cc9d123b8502",
   "metadata": {},
   "outputs": [
    {
     "data": {
      "text/plain": [
       "array(['White', 'Black', 'Asian', 'American Indian/Alaskan Native',\n",
       "       'Other', 'Hispanic'], dtype=object)"
      ]
     },
     "execution_count": 29,
     "metadata": {},
     "output_type": "execute_result"
    }
   ],
   "source": [
    "hd_20[\"Race\"].unique()"
   ]
  },
  {
   "cell_type": "code",
   "execution_count": 30,
   "id": "67f99faf-adbc-47cf-bf1f-25f526bc2bf3",
   "metadata": {},
   "outputs": [],
   "source": [
    "hd_20[\"Race\"] = hd_20[\"Race\"].map({\n",
    "    \"White\": \"White\", \n",
    "    \"Black\": \"Black\",\n",
    "    \"Asian\": \"Other\",\n",
    "    \"American Indian/Alaskan Native\": \"Other\",\n",
    "    \"Other\": \"Other\",\n",
    "    \"Hispanic\": \"Hispanic\",\n",
    "})"
   ]
  },
  {
   "cell_type": "code",
   "execution_count": 31,
   "id": "3fd62400-e847-4854-8fc9-dce52d10e3a2",
   "metadata": {},
   "outputs": [
    {
     "data": {
      "text/plain": [
       "array(['White', 'Black', 'Other', 'Hispanic'], dtype=object)"
      ]
     },
     "execution_count": 31,
     "metadata": {},
     "output_type": "execute_result"
    }
   ],
   "source": [
    "hd_20[\"Race\"].unique()"
   ]
  },
  {
   "cell_type": "code",
   "execution_count": 32,
   "id": "621406b7-8615-4400-8134-9e2799fd0661",
   "metadata": {},
   "outputs": [
    {
     "name": "stdout",
     "output_type": "stream",
     "text": [
      "<class 'pandas.core.frame.DataFrame'>\n",
      "RangeIndex: 319795 entries, 0 to 319794\n",
      "Data columns (total 18 columns):\n",
      " #   Column            Non-Null Count   Dtype   \n",
      "---  ------            --------------   -----   \n",
      " 0   HeartDisease      319795 non-null  bool    \n",
      " 1   BMI               319795 non-null  float64 \n",
      " 2   Smoking           319795 non-null  bool    \n",
      " 3   AlcoholDrinking   319795 non-null  bool    \n",
      " 4   Stroke            319795 non-null  bool    \n",
      " 5   PhysicalHealth    319795 non-null  float64 \n",
      " 6   MentalHealth      319795 non-null  float64 \n",
      " 7   DiffWalking       319795 non-null  bool    \n",
      " 8   Sex               319795 non-null  category\n",
      " 9   AgeCategory       319795 non-null  category\n",
      " 10  Race              319795 non-null  object  \n",
      " 11  Diabetic          319795 non-null  category\n",
      " 12  PhysicalActivity  319795 non-null  bool    \n",
      " 13  GenHealth         319795 non-null  int64   \n",
      " 14  SleepTime         319795 non-null  float64 \n",
      " 15  Asthma            319795 non-null  bool    \n",
      " 16  KidneyDisease     319795 non-null  bool    \n",
      " 17  SkinCancer        319795 non-null  bool    \n",
      "dtypes: bool(9), category(3), float64(4), int64(1), object(1)\n",
      "memory usage: 18.3+ MB\n"
     ]
    }
   ],
   "source": [
    "hd_20.info()"
   ]
  },
  {
   "cell_type": "code",
   "execution_count": 33,
   "id": "9692b778-9bf8-461e-b31e-ea9e6b880cd8",
   "metadata": {},
   "outputs": [
    {
     "data": {
      "text/plain": [
       "0            White\n",
       "1            White\n",
       "2            White\n",
       "3            White\n",
       "4            White\n",
       "            ...   \n",
       "319790    Hispanic\n",
       "319791    Hispanic\n",
       "319792    Hispanic\n",
       "319793    Hispanic\n",
       "319794    Hispanic\n",
       "Name: Race, Length: 319795, dtype: object"
      ]
     },
     "execution_count": 33,
     "metadata": {},
     "output_type": "execute_result"
    }
   ],
   "source": [
    "hd_20[\"Race\"].fillna(\"American Indian/Alaskan Native\")"
   ]
  },
  {
   "cell_type": "code",
   "execution_count": 34,
   "id": "466878e4-0a1c-466c-b073-2454091777be",
   "metadata": {},
   "outputs": [
    {
     "data": {
      "text/plain": [
       "array(['White', 'Black', 'Other', 'Hispanic'], dtype=object)"
      ]
     },
     "execution_count": 34,
     "metadata": {},
     "output_type": "execute_result"
    }
   ],
   "source": [
    "hd_20[\"Race\"].unique()"
   ]
  },
  {
   "cell_type": "code",
   "execution_count": 35,
   "id": "b606afaf-30b6-43e9-834d-8f63ff27daa0",
   "metadata": {},
   "outputs": [
    {
     "name": "stdout",
     "output_type": "stream",
     "text": [
      "<class 'pandas.core.frame.DataFrame'>\n",
      "RangeIndex: 319795 entries, 0 to 319794\n",
      "Data columns (total 18 columns):\n",
      " #   Column            Non-Null Count   Dtype   \n",
      "---  ------            --------------   -----   \n",
      " 0   HeartDisease      319795 non-null  bool    \n",
      " 1   BMI               319795 non-null  float64 \n",
      " 2   Smoking           319795 non-null  bool    \n",
      " 3   AlcoholDrinking   319795 non-null  bool    \n",
      " 4   Stroke            319795 non-null  bool    \n",
      " 5   PhysicalHealth    319795 non-null  float64 \n",
      " 6   MentalHealth      319795 non-null  float64 \n",
      " 7   DiffWalking       319795 non-null  bool    \n",
      " 8   Sex               319795 non-null  category\n",
      " 9   AgeCategory       319795 non-null  category\n",
      " 10  Race              319795 non-null  object  \n",
      " 11  Diabetic          319795 non-null  category\n",
      " 12  PhysicalActivity  319795 non-null  bool    \n",
      " 13  GenHealth         319795 non-null  int64   \n",
      " 14  SleepTime         319795 non-null  float64 \n",
      " 15  Asthma            319795 non-null  bool    \n",
      " 16  KidneyDisease     319795 non-null  bool    \n",
      " 17  SkinCancer        319795 non-null  bool    \n",
      "dtypes: bool(9), category(3), float64(4), int64(1), object(1)\n",
      "memory usage: 18.3+ MB\n"
     ]
    }
   ],
   "source": [
    "hd_20.info()"
   ]
  },
  {
   "cell_type": "code",
   "execution_count": 36,
   "id": "4917c1e6-ceaf-4f9c-9973-27737ae5e688",
   "metadata": {},
   "outputs": [],
   "source": [
    "hd_22[\"RaceEthnicityCategory\"] = hd_22[\"RaceEthnicityCategory\"].map({\n",
    "    \"White only, Non-Hispanic\": \"White\", \n",
    "    \"Black only, Non-Hispanic\": \"Black\",\n",
    "    \"Other race only, Non-Hispanic\": \"Other\",\n",
    "    \"Multiracial, Non-Hispanic\": \"Other\",\n",
    "    \"Hispanic\": \"Hispanic\",\n",
    "})"
   ]
  },
  {
   "cell_type": "code",
   "execution_count": 37,
   "id": "ed899fa4-30cb-4e8b-87c0-9ded8d366e47",
   "metadata": {},
   "outputs": [
    {
     "name": "stdout",
     "output_type": "stream",
     "text": [
      "<class 'pandas.core.frame.DataFrame'>\n",
      "RangeIndex: 246022 entries, 0 to 246021\n",
      "Data columns (total 18 columns):\n",
      " #   Column                 Non-Null Count   Dtype   \n",
      "---  ------                 --------------   -----   \n",
      " 0   Sex                    246022 non-null  category\n",
      " 1   GeneralHealth          246022 non-null  int64   \n",
      " 2   PhysicalHealthDays     246022 non-null  float64 \n",
      " 3   MentalHealthDays       246022 non-null  float64 \n",
      " 4   HadStroke              246022 non-null  bool    \n",
      " 5   HadAsthma              246022 non-null  bool    \n",
      " 6   HadKidneyDisease       246022 non-null  bool    \n",
      " 7   HadSkinCancer          246022 non-null  bool    \n",
      " 8   DifficultyWalking      246022 non-null  bool    \n",
      " 9   AgeCategory            246022 non-null  object  \n",
      " 10  BMI                    246022 non-null  float64 \n",
      " 11  SmokerStatus           246022 non-null  bool    \n",
      " 12  AlcoholDrinkers        246022 non-null  bool    \n",
      " 13  RaceEthnicityCategory  246022 non-null  object  \n",
      " 14  HadDiabetes            246022 non-null  category\n",
      " 15  PhysicalActivities     246022 non-null  bool    \n",
      " 16  SleepHours             246022 non-null  float64 \n",
      " 17  HeartDisease           246022 non-null  bool    \n",
      "dtypes: bool(9), category(2), float64(4), int64(1), object(2)\n",
      "memory usage: 15.7+ MB\n"
     ]
    }
   ],
   "source": [
    "hd_22.info()"
   ]
  },
  {
   "cell_type": "code",
   "execution_count": 38,
   "id": "382a1de8-eeeb-4d3a-9979-e1a73d5610b9",
   "metadata": {},
   "outputs": [],
   "source": [
    "hd_22[\"RaceEthnicityCategory\"] = hd_22[\"RaceEthnicityCategory\"].astype(\"category\")\n",
    "hd_20[\"Race\"] = hd_20[\"Race\"].astype(\"category\")"
   ]
  },
  {
   "cell_type": "code",
   "execution_count": 39,
   "id": "e72fd6c9-15fb-4800-a003-1fe9dcd76529",
   "metadata": {},
   "outputs": [
    {
     "name": "stdout",
     "output_type": "stream",
     "text": [
      "<class 'pandas.core.frame.DataFrame'>\n",
      "RangeIndex: 246022 entries, 0 to 246021\n",
      "Data columns (total 18 columns):\n",
      " #   Column                 Non-Null Count   Dtype   \n",
      "---  ------                 --------------   -----   \n",
      " 0   Sex                    246022 non-null  category\n",
      " 1   GeneralHealth          246022 non-null  int64   \n",
      " 2   PhysicalHealthDays     246022 non-null  float64 \n",
      " 3   MentalHealthDays       246022 non-null  float64 \n",
      " 4   HadStroke              246022 non-null  bool    \n",
      " 5   HadAsthma              246022 non-null  bool    \n",
      " 6   HadKidneyDisease       246022 non-null  bool    \n",
      " 7   HadSkinCancer          246022 non-null  bool    \n",
      " 8   DifficultyWalking      246022 non-null  bool    \n",
      " 9   AgeCategory            246022 non-null  object  \n",
      " 10  BMI                    246022 non-null  float64 \n",
      " 11  SmokerStatus           246022 non-null  bool    \n",
      " 12  AlcoholDrinkers        246022 non-null  bool    \n",
      " 13  RaceEthnicityCategory  246022 non-null  category\n",
      " 14  HadDiabetes            246022 non-null  category\n",
      " 15  PhysicalActivities     246022 non-null  bool    \n",
      " 16  SleepHours             246022 non-null  float64 \n",
      " 17  HeartDisease           246022 non-null  bool    \n",
      "dtypes: bool(9), category(3), float64(4), int64(1), object(1)\n",
      "memory usage: 14.1+ MB\n"
     ]
    }
   ],
   "source": [
    "hd_22.info()"
   ]
  },
  {
   "cell_type": "code",
   "execution_count": 40,
   "id": "2b6cfd98-c6a1-4cf7-9454-157b3c329aaf",
   "metadata": {},
   "outputs": [
    {
     "data": {
      "text/plain": [
       "['55-59', '80 or older', '65-69', '75-79', '40-44', ..., '45-49', '18-24', '35-39', '30-34', '25-29']\n",
       "Length: 13\n",
       "Categories (13, object): ['18-24', '25-29', '30-34', '35-39', ..., '65-69', '70-74', '75-79', '80 or older']"
      ]
     },
     "execution_count": 40,
     "metadata": {},
     "output_type": "execute_result"
    }
   ],
   "source": [
    "hd_20[\"AgeCategory\"].unique()"
   ]
  },
  {
   "cell_type": "code",
   "execution_count": 41,
   "id": "0fe8321f-8daa-4081-a6c0-68367e259808",
   "metadata": {},
   "outputs": [
    {
     "name": "stdout",
     "output_type": "stream",
     "text": [
      "{'Age 45 to 49', 'Age 25 to 29', 'Age 55 to 59', 'Age 80 or older', 'Age 65 to 69', 'Age 50 to 54', 'Age 40 to 44', 'Age 30 to 34', 'Age 75 to 79', 'Age 60 to 64', 'Age 70 to 74', 'Age 18 to 24', 'Age 35 to 39'}\n"
     ]
    }
   ],
   "source": [
    "print(set(hd_22[\"AgeCategory\"]))"
   ]
  },
  {
   "cell_type": "code",
   "execution_count": 42,
   "id": "447d4dc5-1e19-48e1-aee6-cade66834ec5",
   "metadata": {},
   "outputs": [],
   "source": [
    "import re\n",
    "\n",
    "def parse_age_range(s: str) -> str:\n",
    "    if s.strip().lower() == \"age 80 or older\":\n",
    "        return \"80 or older\"\n",
    "    pattern = re.compile(r\"Age\\s+(\\d+)\\s*to\\s*(\\d+)\")\n",
    "    match = pattern.search(s)\n",
    "    if match:\n",
    "        start, end = match.groups()\n",
    "        return f\"{start}-{end}\"\n",
    "    return s\n",
    "\n",
    "hd_22[\"AgeCategory\"] = hd_22[\"AgeCategory\"].apply(lambda s: parse_age_range(s))"
   ]
  },
  {
   "cell_type": "code",
   "execution_count": 43,
   "id": "a8e52133-adf1-409d-a2dc-a74dd24bdf15",
   "metadata": {},
   "outputs": [
    {
     "data": {
      "text/plain": [
       "['18-24',\n",
       " '25-29',\n",
       " '30-34',\n",
       " '35-39',\n",
       " '40-44',\n",
       " '45-49',\n",
       " '50-54',\n",
       " '55-59',\n",
       " '60-64',\n",
       " '65-69',\n",
       " '70-74',\n",
       " '75-79',\n",
       " '80 or older']"
      ]
     },
     "execution_count": 43,
     "metadata": {},
     "output_type": "execute_result"
    }
   ],
   "source": [
    "sorted(hd_22[\"AgeCategory\"].unique())"
   ]
  },
  {
   "cell_type": "code",
   "execution_count": 44,
   "id": "3dafa9c1-b631-4ea4-97d4-67d3cbcb0d9d",
   "metadata": {},
   "outputs": [],
   "source": [
    "hd_22[\"AgeCategory\"] = hd_22[\"AgeCategory\"].astype(\"category\")"
   ]
  },
  {
   "cell_type": "code",
   "execution_count": 45,
   "id": "edb72a89-168e-4822-90b5-2302e6e667b3",
   "metadata": {},
   "outputs": [
    {
     "name": "stdout",
     "output_type": "stream",
     "text": [
      "<class 'pandas.core.frame.DataFrame'>\n",
      "RangeIndex: 246022 entries, 0 to 246021\n",
      "Data columns (total 18 columns):\n",
      " #   Column                 Non-Null Count   Dtype   \n",
      "---  ------                 --------------   -----   \n",
      " 0   Sex                    246022 non-null  category\n",
      " 1   GeneralHealth          246022 non-null  int64   \n",
      " 2   PhysicalHealthDays     246022 non-null  float64 \n",
      " 3   MentalHealthDays       246022 non-null  float64 \n",
      " 4   HadStroke              246022 non-null  bool    \n",
      " 5   HadAsthma              246022 non-null  bool    \n",
      " 6   HadKidneyDisease       246022 non-null  bool    \n",
      " 7   HadSkinCancer          246022 non-null  bool    \n",
      " 8   DifficultyWalking      246022 non-null  bool    \n",
      " 9   AgeCategory            246022 non-null  category\n",
      " 10  BMI                    246022 non-null  float64 \n",
      " 11  SmokerStatus           246022 non-null  bool    \n",
      " 12  AlcoholDrinkers        246022 non-null  bool    \n",
      " 13  RaceEthnicityCategory  246022 non-null  category\n",
      " 14  HadDiabetes            246022 non-null  category\n",
      " 15  PhysicalActivities     246022 non-null  bool    \n",
      " 16  SleepHours             246022 non-null  float64 \n",
      " 17  HeartDisease           246022 non-null  bool    \n",
      "dtypes: bool(9), category(4), float64(4), int64(1)\n",
      "memory usage: 12.4 MB\n"
     ]
    }
   ],
   "source": [
    "hd_22.info()"
   ]
  },
  {
   "cell_type": "code",
   "execution_count": 46,
   "id": "1ed523c4-1be1-44b7-9c50-3ec207ff6b24",
   "metadata": {},
   "outputs": [],
   "source": [
    "hd_22.rename(columns={\n",
    "    \"GeneralHealth\":\"GenHealth\",\n",
    "    \"PhysicalHealthDays\":\"PhysicalHealth\",\n",
    "    \"MentalHealthDays\":\"MentalHealth\",\n",
    "    \"HadStroke\":\"Stroke\",\n",
    "    \"HadAsthma\":\"Asthma\",\n",
    "    \"HadDiabetes\":\"Diabetic\",\n",
    "    \"HadKidneyDisease\":\"KidneyDisease\",\n",
    "    \"HadSkinCancer\":\"SkinCancer\",\n",
    "    \"DifficultyWalking\":\"DiffWalking\", \n",
    "    \"SmokerStatus\":\"Smoking\",\n",
    "    \"AlcoholDrinkers\":\"AlcoholDrinking\",\n",
    "    \"RaceEthnicityCategory\":\"Race\",\n",
    "    \"PhysicalActivities\":\"PhysicalActivity\",\n",
    "    \"SleepHours\":\"SleepTime\",\n",
    "}, inplace=True)"
   ]
  },
  {
   "cell_type": "code",
   "execution_count": 47,
   "id": "57b7e772-7132-4f44-92aa-638fdee2b78d",
   "metadata": {},
   "outputs": [
    {
     "data": {
      "text/plain": [
       "['AgeCategory',\n",
       " 'AlcoholDrinking',\n",
       " 'Asthma',\n",
       " 'BMI',\n",
       " 'Diabetic',\n",
       " 'DiffWalking',\n",
       " 'GenHealth',\n",
       " 'HeartDisease',\n",
       " 'KidneyDisease',\n",
       " 'MentalHealth',\n",
       " 'PhysicalActivity',\n",
       " 'PhysicalHealth',\n",
       " 'Race',\n",
       " 'Sex',\n",
       " 'SkinCancer',\n",
       " 'SleepTime',\n",
       " 'Smoking',\n",
       " 'Stroke']"
      ]
     },
     "execution_count": 47,
     "metadata": {},
     "output_type": "execute_result"
    }
   ],
   "source": [
    "sorted(hd_22.columns)"
   ]
  },
  {
   "cell_type": "code",
   "execution_count": 48,
   "id": "20e2e630-cf2b-4eeb-bfe2-d37b0e2ed7c8",
   "metadata": {},
   "outputs": [
    {
     "data": {
      "text/plain": [
       "['AgeCategory',\n",
       " 'AlcoholDrinking',\n",
       " 'Asthma',\n",
       " 'BMI',\n",
       " 'Diabetic',\n",
       " 'DiffWalking',\n",
       " 'GenHealth',\n",
       " 'HeartDisease',\n",
       " 'KidneyDisease',\n",
       " 'MentalHealth',\n",
       " 'PhysicalActivity',\n",
       " 'PhysicalHealth',\n",
       " 'Race',\n",
       " 'Sex',\n",
       " 'SkinCancer',\n",
       " 'SleepTime',\n",
       " 'Smoking',\n",
       " 'Stroke']"
      ]
     },
     "execution_count": 48,
     "metadata": {},
     "output_type": "execute_result"
    }
   ],
   "source": [
    "sorted(hd_20.columns)"
   ]
  },
  {
   "cell_type": "code",
   "execution_count": 49,
   "id": "d3731f1a-27e4-4002-a9de-11a70c48f5d9",
   "metadata": {},
   "outputs": [
    {
     "data": {
      "text/plain": [
       "565817"
      ]
     },
     "execution_count": 49,
     "metadata": {},
     "output_type": "execute_result"
    }
   ],
   "source": [
    "len(hd_20) + len(hd_22)"
   ]
  },
  {
   "cell_type": "code",
   "execution_count": 50,
   "id": "e6229aa8-05f4-4aa0-9b18-690d0eee6e81",
   "metadata": {},
   "outputs": [],
   "source": [
    "hd_20_22 = pd.concat([hd_20, hd_22], axis=0)"
   ]
  },
  {
   "cell_type": "code",
   "execution_count": 51,
   "id": "62bbcc26-1602-4d23-aff7-6dd0aea66910",
   "metadata": {},
   "outputs": [
    {
     "name": "stdout",
     "output_type": "stream",
     "text": [
      "<class 'pandas.core.frame.DataFrame'>\n",
      "Index: 565817 entries, 0 to 246021\n",
      "Data columns (total 18 columns):\n",
      " #   Column            Non-Null Count   Dtype   \n",
      "---  ------            --------------   -----   \n",
      " 0   HeartDisease      565817 non-null  bool    \n",
      " 1   BMI               565817 non-null  float64 \n",
      " 2   Smoking           565817 non-null  bool    \n",
      " 3   AlcoholDrinking   565817 non-null  bool    \n",
      " 4   Stroke            565817 non-null  bool    \n",
      " 5   PhysicalHealth    565817 non-null  float64 \n",
      " 6   MentalHealth      565817 non-null  float64 \n",
      " 7   DiffWalking       565817 non-null  bool    \n",
      " 8   Sex               565817 non-null  category\n",
      " 9   AgeCategory       565817 non-null  category\n",
      " 10  Race              565817 non-null  category\n",
      " 11  Diabetic          565817 non-null  category\n",
      " 12  PhysicalActivity  565817 non-null  bool    \n",
      " 13  GenHealth         565817 non-null  int64   \n",
      " 14  SleepTime         565817 non-null  float64 \n",
      " 15  Asthma            565817 non-null  bool    \n",
      " 16  KidneyDisease     565817 non-null  bool    \n",
      " 17  SkinCancer        565817 non-null  bool    \n",
      "dtypes: bool(9), category(4), float64(4), int64(1)\n",
      "memory usage: 32.9 MB\n"
     ]
    }
   ],
   "source": [
    "hd_20_22.info()"
   ]
  },
  {
   "cell_type": "code",
   "execution_count": 52,
   "id": "31bed2fb-4996-4ac8-9e50-16dd71d09209",
   "metadata": {},
   "outputs": [],
   "source": [
    "hd_20_22.to_feather(\"merged.feather\")"
   ]
  }
 ],
 "metadata": {
  "kernelspec": {
   "display_name": "Python 3 (ipykernel)",
   "language": "python",
   "name": "python3"
  },
  "language_info": {
   "codemirror_mode": {
    "name": "ipython",
    "version": 3
   },
   "file_extension": ".py",
   "mimetype": "text/x-python",
   "name": "python",
   "nbconvert_exporter": "python",
   "pygments_lexer": "ipython3",
   "version": "3.12.7"
  }
 },
 "nbformat": 4,
 "nbformat_minor": 5
}
